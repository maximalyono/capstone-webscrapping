{
 "cells": [
  {
   "cell_type": "markdown",
   "metadata": {},
   "source": [
    "# Capstone Webscrapping using BeautifulSoup\n",
    "\n",
    "This notebook contains guidances & tasks on the data processing for the application\n",
    "\n",
    "## Background\n",
    "\n",
    "Pada proyek ini kita akan men-scrapping data harga harian dolar amerika (USD) terhadap rupiah indonesia (IDR). Website yang kita scrapping adalah exchange-rates.org. \n",
    "\n",
    "Kita akan men-scrapping dua hal. Data tanggal beserta nilai USD terhadap IDR. Data diambil dari tanggal 11 Oktober 2021 sampai tanggal 9 April 2022. Kurang lebih enam bulan ke belakang.\n",
    "\n",
    "\n",
    "## Requesting the Data and Creating a BeautifulSoup\n",
    "\n",
    "Let's begin with requesting the web from the site with `get` method."
   ]
  },
  {
   "cell_type": "code",
   "execution_count": 1,
   "metadata": {
    "ExecuteTime": {
     "end_time": "2020-01-13T05:12:23.275508Z",
     "start_time": "2020-01-13T05:12:20.009898Z"
    }
   },
   "outputs": [],
   "source": [
    "import requests\n",
    "\n",
    "url_get = requests.get('https://www.exchange-rates.org/history/IDR/USD/T')"
   ]
  },
  {
   "cell_type": "markdown",
   "metadata": {},
   "source": [
    "To visualize what exactly you get from the `request.get`, we can use .content so ee what we exactly get, in here i slice it so it won't make our screen full of the html we get from the page. You can delete the slicing if you want to see what we fully get."
   ]
  },
  {
   "cell_type": "code",
   "execution_count": 2,
   "metadata": {
    "ExecuteTime": {
     "end_time": "2020-01-13T05:12:23.290648Z",
     "start_time": "2020-01-13T05:12:23.277650Z"
    }
   },
   "outputs": [
    {
     "data": {
      "text/plain": [
       "b'!DOCTYPE html>\\r\\n<!--[if lt IE 9]>\\r\\n<html class=\"no-js ie8 oldie\" lang=\"en\" xml:lang=\\'en\\'>\\r\\n<![endif]-->\\r\\n<!--[if gt IE 8]><!--><html class=\"no-js\" lang=\"en\" xml:lang=\\'en\\'><!--<![endif]-->\\r\\n<head>\\r\\n<title>Indonesian Rupiah Exchange Rate - US Dollar - Historical Exchange Rates</title>\\r\\n<meta http-equiv=\"X-UA-Compatible\" content=\"IE=edge\">\\r\\n<meta name=\"viewport\" content=\"width=device-width, initial-scale=1, maximum-scale=5\">\\r\\n<meta charset=\"utf-8\" /><meta http-equiv=\"Content-Type\" content=\"text/ht'"
      ]
     },
     "execution_count": 2,
     "metadata": {},
     "output_type": "execute_result"
    }
   ],
   "source": [
    "url_get.content[1:500]"
   ]
  },
  {
   "cell_type": "markdown",
   "metadata": {},
   "source": [
    "As we can see we get a very unstructured and complex html, which actually contains the codes needed to show the webpages on your web browser. But we as human still confused what and where we can use that piece of code, so here where we use the beautifulsoup. Beautiful soup class will result a beautifulsoup object. Beautiful Soup transforms a complex HTML document into a complex tree of Python objects. \n",
    "\n",
    "Let's make Beautiful soup object and feel free to explore the object here."
   ]
  },
  {
   "cell_type": "code",
   "execution_count": 3,
   "metadata": {
    "ExecuteTime": {
     "end_time": "2020-01-13T05:12:23.808122Z",
     "start_time": "2020-01-13T05:12:23.292610Z"
    }
   },
   "outputs": [
    {
     "name": "stdout",
     "output_type": "stream",
     "text": [
      "<!DOCTYPE html>\n",
      "<!--[if lt IE 9]>\r\n",
      "<html class=\"no-js ie8 oldie\" lang=\"en\" xml:lang='en'>\r\n",
      "<![endif]-->\n",
      "<!--[if gt IE 8]><!-->\n",
      "<html class=\"no-js\" lang=\"en\" xml:lang=\"en\">\n",
      " <!--<![endif]-->\n",
      " <head>\n",
      "  <title>\n",
      "   Indonesian Rupiah Exchange Rate - US Dollar - Historical Exchange Rates\n",
      "  </title>\n",
      "  <meta content=\"IE=edge\" http-equiv=\"X-UA-Compatible\"/>\n",
      "  <meta content=\"width=device-width, initial-scal\n"
     ]
    }
   ],
   "source": [
    "from bs4 import BeautifulSoup \n",
    "\n",
    "soup = BeautifulSoup(url_get.content,\"html.parser\")\n",
    "print(soup.prettify()[:400])"
   ]
  },
  {
   "cell_type": "markdown",
   "metadata": {},
   "source": [
    "## Finding the right key to scrap the data & Extracting the right information"
   ]
  },
  {
   "cell_type": "markdown",
   "metadata": {},
   "source": [
    "Dari observasi dengan menggunakan developer tool 'inspect'. Data yang diperlukan terbungkus dengan menggunakan tag html ```<tbody>```. Tag tersebut merupakan 'anak' dari tag ```<table>```. Kita menggunakan fungsi **find()** dari beautifulsoup untuk mengekstrak datanya. \n",
    "\n",
    "Data yang tertangkap dengan fungsi **find()** mencakup keseluruhan tabel. Tabelnya memiliki 4 kolom. Pertama kolom tanggal; kedua kolom nama hari; ketiga kolom harga harian; keempat kolom keterangan tambahan. Data yang kita perlukan ada di kolom pertama, ketiga dan keempat. Data harga harian ada di  kolom ketiga. Data tanggal ada di dua kolom; baik pertama maupun keempat. Pilih yang mana ya?\n",
    "\n",
    "Data tanggal akan kita ekstrak dari kolom keempat. Ini dilakukan karena pada kolom ketiga (data harga harian) dan kolom keempat (data tanggal) sama-sama terbungkus oleh tag html ```<a>```. Dengan demikian maka pekerjaan ektraksi kedua data dapat dilakukan sekali jalan dengan menggunakan fungsi findall(). "
   ]
  },
  {
   "cell_type": "code",
   "execution_count": 4,
   "metadata": {
    "ExecuteTime": {
     "end_time": "2020-01-13T05:12:23.878904Z",
     "start_time": "2020-01-13T05:12:23.854974Z"
    }
   },
   "outputs": [
    {
     "name": "stdout",
     "output_type": "stream",
     "text": [
      "tbody>\n",
      " <tr>\n",
      "  <td>\n",
      "   4/8/2022\n",
      "  </td>\n",
      "  <td>\n",
      "   Friday\n",
      "  </td>\n",
      "  <td>\n",
      "   <a href=\"/Rate/USD/IDR/4-8-2022\">\n",
      "    14,361.23753\n",
      "   </a>\n",
      "   IDR\n",
      "  </td>\n",
      "  <td class=\"text-narrow-screen-hidden\">\n",
      "   <a href=\"/Rate/USD/IDR/4-8-2022\">\n",
      "    USD IDR rate for 4/8/2022\n",
      "   </a>\n",
      "  </td>\n",
      " </tr>\n",
      " <tr>\n",
      "  <td>\n",
      "   4/7/2022\n",
      "  </td>\n",
      "  <td>\n",
      "   Thursday\n",
      "  </td>\n",
      "  <td>\n",
      "   <a href=\"/Rate/USD/IDR/4-7-2022\">\n",
      "    14,376.17757\n",
      "   </a>\n",
      "   IDR\n",
      "  </td>\n",
      "  <td class=\"text-narrow-screen-hidden\">\n",
      "   <a href=\"/Rate/USD/IDR/4-7-2022\n"
     ]
    }
   ],
   "source": [
    "table = soup.find('tbody')\n",
    "print(table.prettify()[1:500])"
   ]
  },
  {
   "cell_type": "code",
   "execution_count": 5,
   "metadata": {},
   "outputs": [
    {
     "data": {
      "text/plain": [
       "[<a href=\"/Rate/USD/IDR/4-8-2022\">14,361.23753</a>,\n",
       " <a href=\"/Rate/USD/IDR/4-8-2022\">USD IDR rate for 4/8/2022</a>,\n",
       " <a href=\"/Rate/USD/IDR/4-7-2022\">14,376.17757</a>,\n",
       " <a href=\"/Rate/USD/IDR/4-7-2022\">USD IDR rate for 4/7/2022</a>,\n",
       " <a href=\"/Rate/USD/IDR/4-6-2022\">14,353.48743</a>,\n",
       " <a href=\"/Rate/USD/IDR/4-6-2022\">USD IDR rate for 4/6/2022</a>]"
      ]
     },
     "execution_count": 5,
     "metadata": {},
     "output_type": "execute_result"
    }
   ],
   "source": [
    "ekstrak = table.find_all('a')\n",
    "ekstrak[:6]"
   ]
  },
  {
   "cell_type": "markdown",
   "metadata": {},
   "source": [
    "Finding row length."
   ]
  },
  {
   "cell_type": "code",
   "execution_count": 6,
   "metadata": {},
   "outputs": [
    {
     "data": {
      "text/plain": [
       "260"
      ]
     },
     "execution_count": 6,
     "metadata": {},
     "output_type": "execute_result"
    }
   ],
   "source": [
    "row_length = len(ekstrak)\n",
    "row_length"
   ]
  },
  {
   "cell_type": "markdown",
   "metadata": {},
   "source": [
    "Hasil ekstrak dengan menggunakan fungsi findall() masih 'kotor'. Ada bagian yang perlu dibuang dan ada bagian yang perlu diubah, yaitu: \n",
    "- Tag html ```<a>...</a>``` yang menjadi pembungkus akan dibuang\n",
    "- Tanda baca **koma (,)** pada data harga harian akan kita ubah menjadi tanda baca **titik (.)**\n",
    "- Text 'USD IDR rate for ' pada data tanggal akan dibuang\n",
    "\n",
    "Jika diperhatikan secara seksama. List yang dipakai untuk menampung data hasil ekstrak memiliki pola. List-nya berselang-seling berisi data harga harian dan tanggal secara bergantian. Kalo kita menggunakan zero-based index maka index yang genap berisi data harga harian; index yang ganjil berisi data tanggal. Pola ini akan kita jadikan celah untuk memoles datanya lebih bersih lagi.\n",
    "\n",
    "Kita akan menggunakan perulangan untuk iterasi di dalam  list. Iterasi dilakukan dari index  nol sampai dengan index terakhir sebanyak panjang list. Kita iterasi dengan panjang langkah (step) dua-dua. Untuk setiap iterasi kita tangkap **data harga** dan **data tanggal** dengan menggunakan attribut ```text```. Lebih detilnya pada data harga kita juga melakukan mengubah **tanda baca koma** dengan **tanda baca titik** dengan memakai fungsi **replace()**. Dan pada data tanggal kita membuang 'USD IDR rate for ' dengan fungsi  **removeprefix()**.   \n",
    "\n",
    "Data tersebut kemudian kita masukkan kedalam tuple bernama temp."
   ]
  },
  {
   "cell_type": "code",
   "execution_count": 8,
   "metadata": {
    "ExecuteTime": {
     "end_time": "2020-01-13T05:12:24.008256Z",
     "start_time": "2020-01-13T05:12:23.980358Z"
    }
   },
   "outputs": [
    {
     "data": {
      "text/plain": [
       "[('14220.90165', '10/11/2021'),\n",
       " ('14214.84450', '10/12/2021'),\n",
       " ('14204.85164', '10/13/2021'),\n",
       " ('14105.27223', '10/14/2021'),\n",
       " ('14070.19147', '10/15/2021')]"
      ]
     },
     "execution_count": 8,
     "metadata": {},
     "output_type": "execute_result"
    }
   ],
   "source": [
    "temp = [] #initiating a tuple\n",
    "\n",
    "for i in range(0, row_length, 2):\n",
    "    harga = ekstrak[i].text.replace(',','')\n",
    "    tanggal = ekstrak[i+1].text.removeprefix(\"USD IDR rate for \")\n",
    "    temp.append((harga, tanggal))\n",
    "    \n",
    "temp = temp[::-1]\n",
    "temp[:5]"
   ]
  },
  {
   "cell_type": "markdown",
   "metadata": {},
   "source": [
    "## Creating data frame & Data wrangling"
   ]
  },
  {
   "cell_type": "markdown",
   "metadata": {},
   "source": [
    "Put the array into dataframe"
   ]
  },
  {
   "cell_type": "code",
   "execution_count": 9,
   "metadata": {
    "ExecuteTime": {
     "end_time": "2020-01-13T05:12:41.517372Z",
     "start_time": "2020-01-13T05:12:29.130015Z"
    }
   },
   "outputs": [
    {
     "data": {
      "text/html": [
       "<div>\n",
       "<style scoped>\n",
       "    .dataframe tbody tr th:only-of-type {\n",
       "        vertical-align: middle;\n",
       "    }\n",
       "\n",
       "    .dataframe tbody tr th {\n",
       "        vertical-align: top;\n",
       "    }\n",
       "\n",
       "    .dataframe thead th {\n",
       "        text-align: right;\n",
       "    }\n",
       "</style>\n",
       "<table border=\"1\" class=\"dataframe\">\n",
       "  <thead>\n",
       "    <tr style=\"text-align: right;\">\n",
       "      <th></th>\n",
       "      <th>harga harian</th>\n",
       "      <th>tanggal</th>\n",
       "    </tr>\n",
       "  </thead>\n",
       "  <tbody>\n",
       "    <tr>\n",
       "      <th>0</th>\n",
       "      <td>14220.90165</td>\n",
       "      <td>10/11/2021</td>\n",
       "    </tr>\n",
       "    <tr>\n",
       "      <th>1</th>\n",
       "      <td>14214.84450</td>\n",
       "      <td>10/12/2021</td>\n",
       "    </tr>\n",
       "    <tr>\n",
       "      <th>2</th>\n",
       "      <td>14204.85164</td>\n",
       "      <td>10/13/2021</td>\n",
       "    </tr>\n",
       "    <tr>\n",
       "      <th>3</th>\n",
       "      <td>14105.27223</td>\n",
       "      <td>10/14/2021</td>\n",
       "    </tr>\n",
       "    <tr>\n",
       "      <th>4</th>\n",
       "      <td>14070.19147</td>\n",
       "      <td>10/15/2021</td>\n",
       "    </tr>\n",
       "  </tbody>\n",
       "</table>\n",
       "</div>"
      ],
      "text/plain": [
       "  harga harian     tanggal\n",
       "0  14220.90165  10/11/2021\n",
       "1  14214.84450  10/12/2021\n",
       "2  14204.85164  10/13/2021\n",
       "3  14105.27223  10/14/2021\n",
       "4  14070.19147  10/15/2021"
      ]
     },
     "execution_count": 9,
     "metadata": {},
     "output_type": "execute_result"
    }
   ],
   "source": [
    "import pandas as pd\n",
    "\n",
    "df = pd.DataFrame(temp, columns = ('harga harian','tanggal'))\n",
    "df.head()"
   ]
  },
  {
   "cell_type": "markdown",
   "metadata": {},
   "source": [
    "Data pada tuple ```temp``` kita jadikan dataframe pandas. Kita menamai kolom yang berisi harga dengan 'harga harian'; kolom yang berisi tanggal dengan 'tanggal'. "
   ]
  },
  {
   "cell_type": "code",
   "execution_count": 10,
   "metadata": {
    "ExecuteTime": {
     "end_time": "2020-01-13T05:12:59.165559Z",
     "start_time": "2020-01-13T05:12:58.910012Z"
    }
   },
   "outputs": [
    {
     "data": {
      "text/html": [
       "<div>\n",
       "<style scoped>\n",
       "    .dataframe tbody tr th:only-of-type {\n",
       "        vertical-align: middle;\n",
       "    }\n",
       "\n",
       "    .dataframe tbody tr th {\n",
       "        vertical-align: top;\n",
       "    }\n",
       "\n",
       "    .dataframe thead th {\n",
       "        text-align: right;\n",
       "    }\n",
       "</style>\n",
       "<table border=\"1\" class=\"dataframe\">\n",
       "  <thead>\n",
       "    <tr style=\"text-align: right;\">\n",
       "      <th></th>\n",
       "      <th>harga harian</th>\n",
       "    </tr>\n",
       "    <tr>\n",
       "      <th>tanggal</th>\n",
       "      <th></th>\n",
       "    </tr>\n",
       "  </thead>\n",
       "  <tbody>\n",
       "    <tr>\n",
       "      <th>2021-10-11</th>\n",
       "      <td>14220.90165</td>\n",
       "    </tr>\n",
       "    <tr>\n",
       "      <th>2021-10-12</th>\n",
       "      <td>14214.84450</td>\n",
       "    </tr>\n",
       "    <tr>\n",
       "      <th>2021-10-13</th>\n",
       "      <td>14204.85164</td>\n",
       "    </tr>\n",
       "    <tr>\n",
       "      <th>2021-10-14</th>\n",
       "      <td>14105.27223</td>\n",
       "    </tr>\n",
       "    <tr>\n",
       "      <th>2021-10-15</th>\n",
       "      <td>14070.19147</td>\n",
       "    </tr>\n",
       "  </tbody>\n",
       "</table>\n",
       "</div>"
      ],
      "text/plain": [
       "            harga harian\n",
       "tanggal                 \n",
       "2021-10-11   14220.90165\n",
       "2021-10-12   14214.84450\n",
       "2021-10-13   14204.85164\n",
       "2021-10-14   14105.27223\n",
       "2021-10-15   14070.19147"
      ]
     },
     "execution_count": 10,
     "metadata": {},
     "output_type": "execute_result"
    }
   ],
   "source": [
    "df['tanggal'] = df['tanggal'].astype('datetime64')\n",
    "df['harga harian'] = df['harga harian'].astype('float64')\n",
    "tabelnya = df.set_index('tanggal')\n",
    "df.dtypes\n",
    "tabelnya.head()"
   ]
  },
  {
   "cell_type": "markdown",
   "metadata": {},
   "source": [
    "Tipe data masih belum sesuai. Kita ubah tipe datanya dengan menggunakan fungsi astype(). Tanggal menjadi ```datetime64```. Harga harian menjadi ```float64```. Selanjutnya kita jadikan kolom tanggal sebagai index tabel."
   ]
  },
  {
   "cell_type": "code",
   "execution_count": 13,
   "metadata": {},
   "outputs": [
    {
     "data": {
      "text/plain": [
       "<AxesSubplot:xlabel='tanggal'>"
      ]
     },
     "execution_count": 13,
     "metadata": {},
     "output_type": "execute_result"
    },
    {
     "data": {
      "image/png": "[encoded data removed]",
      "text/plain": [
       "<Figure size 432x288 with 1 Axes>"
      ]
     },
     "metadata": {
      "needs_background": "light"
     },
     "output_type": "display_data"
    }
   ],
   "source": [
    "tabelnya.plot()"
   ]
  },
  {
   "cell_type": "markdown",
   "metadata": {},
   "source": [
    "### Implementing your webscrapping to the flask dashboard\n",
    "\n",
    "- Copy paste all of your web scrapping process to the desired position on the `app.py`\n",
    "- Changing the title of the dasboard at `index.html`"
   ]
  },
  {
   "cell_type": "markdown",
   "metadata": {},
   "source": [
    "## Finishing This Notebook with Your Analysis and Conclusion\n",
    "\n",
    "First you can do start with making the data visualisation. "
   ]
  },
  {
   "cell_type": "code",
   "execution_count": null,
   "metadata": {
    "ExecuteTime": {
     "end_time": "2020-01-13T05:20:56.208237Z",
     "start_time": "2020-01-13T05:20:56.076043Z"
    }
   },
   "outputs": [],
   "source": [
    "Analisa grafik\n",
    "- Harga harian USD-IDR 6 bulan terakhir titik terendahnya terjadi di pertengahan Oktober 2021 \n",
    "- Harga harian USD-IDR 6 bulan terakhit titik tertingginya terjadi di pertengahan Februari 2022\n",
    "- Secara overall 6 bulan terakhir harga harian USD-IDR cenderung naik"
   ]
  },
  {
   "cell_type": "markdown",
   "metadata": {},
   "source": [
    "### Extra Challange\n",
    "\n",
    "This will be not included to the scoring. \n",
    "\n",
    "- You can create additional analysis from the data.\n",
    "- Implement it to the dashboard with at `app.py` dan `index.html`."
   ]
  }
 ],
 "metadata": {
  "kernelspec": {
   "display_name": "da_rhea",
   "language": "python",
   "name": "da_rhea"
  },
  "language_info": {
   "codemirror_mode": {
    "name": "ipython",
    "version": 3
   },
   "file_extension": ".py",
   "mimetype": "text/x-python",
   "name": "python",
   "nbconvert_exporter": "python",
   "pygments_lexer": "ipython3",
   "version": "3.9.7"
  }
 },
 "nbformat": 4,
 "nbformat_minor": 2
}
